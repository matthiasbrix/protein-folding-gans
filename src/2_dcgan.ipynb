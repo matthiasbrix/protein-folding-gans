{
 "cells": [
  {
   "cell_type": "code",
   "execution_count": 1,
   "metadata": {},
   "outputs": [
    {
     "name": "stdout",
     "output_type": "stream",
     "text": [
      "['/home/matthias/DIKU Project Protein Folding/protein-folding-gans/src', '/home/matthias/.local/share/virtualenvs/openprotein-xj-YAKcS/lib/python37.zip', '/home/matthias/.local/share/virtualenvs/openprotein-xj-YAKcS/lib/python3.7', '/home/matthias/.local/share/virtualenvs/openprotein-xj-YAKcS/lib/python3.7/lib-dynload', '/home/matthias/anaconda3/envs/openprotein/lib/python3.7', '', '/home/matthias/.local/share/virtualenvs/openprotein-xj-YAKcS/lib/python3.7/site-packages', '/home/matthias/.local/share/virtualenvs/openprotein-xj-YAKcS/lib/python3.7/site-packages/IPython/extensions', '/home/matthias/.ipython']\n"
     ]
    }
   ],
   "source": [
    "import os\n",
    "import torch\n",
    "import numpy as np\n",
    "\n",
    "print(os.sys.path)\n",
    "os.sys.path.append(\"/home/matthias/DIKU Project Protein Folding/protein-folding-gans/src/openprotein/pnerf\")\n",
    "\n",
    "# CODE FILES HERE\n",
    "from model_params import get_model_data_dcgan\n",
    "from models.dcgan import Dcgan, Generator, Discriminator\n",
    "from solver import Solver\n",
    "from directories import Directories\n",
    "from dataloader import DataLoader\n",
    "from plots import plot_losses, plot_z_samples\n",
    "from sampling import dcgan_sampling\n",
    "from openprotein.preprocessing import process_raw_data\n",
    "import openprotein.preprocessing\n",
    "\n",
    "# SETTINGS HERE\n",
    "os.environ['CUDA_LAUNCH_BLOCKING'] = \"1\" # to see the CUDA stack\n",
    "%matplotlib inline\n",
    "# for auto-reloading external modules\n",
    "# see http://stackoverflow.com/questions/1907993/autoreload-of-modules-in-ipython\n",
    "%load_ext autoreload\n",
    "%autoreload 2\n",
    "# supress cluttering warnings in solutions\n",
    "import warnings\n",
    "warnings.filterwarnings('ignore')"
   ]
  },
  {
   "cell_type": "code",
   "execution_count": 2,
   "metadata": {},
   "outputs": [
    {
     "name": "stdout",
     "output_type": "stream",
     "text": [
      "Using device: cpu\n",
      "\n"
     ]
    }
   ],
   "source": [
    "# setting device on GPU if available, else CPU\n",
    "device = torch.device('cuda:0' if torch.cuda.is_available() else 'cpu')\n",
    "print('Using device:', device)\n",
    "print()\n",
    "\n",
    "# Additional Info when using cuda\n",
    "if device.type == 'cuda':\n",
    "    print(torch.cuda.get_device_name(0))\n",
    "    print('Memory Usage:')\n",
    "    print('Allocated:', round(torch.cuda.memory_allocated(0)/1024**3,1), 'GB')\n",
    "    print('Cached:   ', round(torch.cuda.memory_cached(0)/1024**3,1), 'GB')"
   ]
  },
  {
   "cell_type": "code",
   "execution_count": 3,
   "metadata": {},
   "outputs": [
    {
     "name": "stdout",
     "output_type": "stream",
     "text": [
      "2000 16\n"
     ]
    }
   ],
   "source": [
    "dataset_arg = \"proteins\"\n",
    "prefix = \"_max_length/\"\n",
    "data = get_model_data_dcgan(dataset_arg)\n",
    "residue_fragments = 16\n",
    "openprotein.preprocessing.MAX_SEQUENCE_LENGTH = 2000\n",
    "print(openprotein.preprocessing.MAX_SEQUENCE_LENGTH, residue_fragments)\n",
    "#process_raw_data(False, force_pre_processing_overwrite=False, prefix=prefix)"
   ]
  },
  {
   "cell_type": "code",
   "execution_count": 4,
   "metadata": {},
   "outputs": [
    {
     "name": "stdout",
     "output_type": "stream",
     "text": [
      "openprotein/data/preprocessed/2000_max_length/testing.txt.hdf5 openprotein/data/preprocessed/2000_max_length/testing.txt.hdf5\n"
     ]
    }
   ],
   "source": [
    "train_file_name = \"testing\"\n",
    "val_file_name = train_file_name\n",
    "training_file = \"openprotein/data/preprocessed/\" + str(openprotein.preprocessing.MAX_SEQUENCE_LENGTH)\\\n",
    "            + prefix + train_file_name + \".txt.hdf5\"\n",
    "validation_file = \"openprotein/data/preprocessed/\" + str(openprotein.preprocessing.MAX_SEQUENCE_LENGTH)\\\n",
    "            + prefix + val_file_name + \".txt.hdf5\"\n",
    "print(training_file, validation_file)"
   ]
  },
  {
   "cell_type": "code",
   "execution_count": 5,
   "metadata": {
    "scrolled": true
   },
   "outputs": [
    {
     "name": "stdout",
     "output_type": "stream",
     "text": [
      "81 2000\n",
      "start, end 0 16 12\n",
      "HER 0 1\n",
      "HER 0 2\n",
      "HER 0 3\n",
      "HER 0 4\n",
      "HER 0 5\n",
      "HER 0 6\n",
      "HER 0 7\n",
      "HER 0 8\n",
      "HER 0 9\n",
      "HER 0 10\n",
      "HER 0 11\n",
      "start, end 16 32 12\n",
      "HER 1 2\n",
      "HER 1 3\n",
      "HER 1 4\n",
      "HER 1 5\n",
      "HER 1 6\n",
      "HER 1 7\n",
      "HER 1 8\n",
      "HER 1 9\n",
      "HER 1 10\n",
      "HER 1 11\n",
      "start, end 32 48 12\n",
      "HER 2 3\n",
      "HER 2 4\n",
      "HER 2 5\n",
      "HER 2 6\n",
      "HER 2 7\n",
      "HER 2 8\n",
      "HER 2 9\n",
      "HER 2 10\n",
      "HER 2 11\n",
      "start, end 48 64 12\n",
      "HER 3 4\n",
      "HER 3 5\n",
      "HER 3 6\n",
      "HER 3 7\n",
      "HER 3 8\n",
      "HER 3 9\n",
      "HER 3 10\n",
      "HER 3 11\n",
      "start, end 64 80 12\n",
      "HER 4 5\n",
      "HER 4 6\n",
      "HER 4 7\n",
      "HER 4 8\n",
      "HER 4 9\n",
      "HER 4 10\n",
      "HER 4 11\n",
      "start, end 80 96 12\n",
      "HER 5 6\n",
      "HER 5 7\n",
      "HER 5 8\n",
      "HER 5 9\n",
      "HER 5 10\n",
      "HER 5 11\n",
      "start, end 96 112 12\n",
      "HER 6 7\n",
      "HER 6 8\n",
      "HER 6 9\n",
      "HER 6 10\n",
      "HER 6 11\n",
      "start, end 112 128 12\n",
      "HER 7 8\n",
      "HER 7 9\n",
      "HER 7 10\n",
      "HER 7 11\n",
      "start, end 128 144 12\n",
      "HER 8 9\n",
      "HER 8 10\n",
      "HER 8 11\n",
      "start, end 144 160 12\n",
      "HER 9 10\n",
      "HER 9 11\n",
      "start, end 160 176 12\n",
      "HER 10 11\n",
      "start, end 176 192 12\n",
      "CONTACT MAP\n"
     ]
    },
    {
     "ename": "NameError",
     "evalue": "name 'exit' is not defined",
     "output_type": "error",
     "traceback": [
      "\u001b[0;31m---------------------------------------------------------------------------\u001b[0m",
      "\u001b[0;31mNameError\u001b[0m                                 Traceback (most recent call last)",
      "\u001b[0;32m<ipython-input-5-d21b99a74ea9>\u001b[0m in \u001b[0;36m<module>\u001b[0;34m\u001b[0m\n\u001b[1;32m      2\u001b[0m data_loader = DataLoader(directories, data[\"batch_size\"], dataset_arg.lower(),\n\u001b[1;32m      3\u001b[0m                          \u001b[0mtraining_file\u001b[0m\u001b[0;34m=\u001b[0m\u001b[0mtraining_file\u001b[0m\u001b[0;34m,\u001b[0m \u001b[0mvalidation_file\u001b[0m\u001b[0;34m=\u001b[0m\u001b[0mvalidation_file\u001b[0m\u001b[0;34m,\u001b[0m\u001b[0;34m\u001b[0m\u001b[0;34m\u001b[0m\u001b[0m\n\u001b[0;32m----> 4\u001b[0;31m                          residue_fragments=residue_fragments, atom=\"calpha\")\n\u001b[0m\u001b[1;32m      5\u001b[0m \u001b[0;31m#gan = Dcgan(data_loader.input_dim, data[\"z_dim\"])\u001b[0m\u001b[0;34m\u001b[0m\u001b[0;34m\u001b[0m\u001b[0;34m\u001b[0m\u001b[0m\n\u001b[1;32m      6\u001b[0m \u001b[0;31m#generator = Generator(data[\"z_dim\"], data_loader.input_dim, data_loader.img_dims, res=residue_fragments)\u001b[0m\u001b[0;34m\u001b[0m\u001b[0;34m\u001b[0m\u001b[0;34m\u001b[0m\u001b[0m\n",
      "\u001b[0;32m~/DIKU Project Protein Folding/protein-folding-gans/src/dataloader.py\u001b[0m in \u001b[0;36m__init__\u001b[0;34m(self, directories, batch_size, dataset, training_file, validation_file, residue_fragments, atom)\u001b[0m\n\u001b[1;32m     81\u001b[0m             \u001b[0mself\u001b[0m\u001b[0;34m.\u001b[0m\u001b[0mresidue_fragments\u001b[0m \u001b[0;34m=\u001b[0m \u001b[0mresidue_fragments\u001b[0m\u001b[0;34m\u001b[0m\u001b[0;34m\u001b[0m\u001b[0m\n\u001b[1;32m     82\u001b[0m             \u001b[0;31m# Takes a matrix N x 3\u001b[0m\u001b[0;34m\u001b[0m\u001b[0;34m\u001b[0m\u001b[0;34m\u001b[0m\u001b[0m\n\u001b[0;32m---> 83\u001b[0;31m             \u001b[0mself\u001b[0m\u001b[0;34m.\u001b[0m\u001b[0mtrain_loader\u001b[0m \u001b[0;34m=\u001b[0m \u001b[0mconstruct_dataloader_from_disk\u001b[0m\u001b[0;34m(\u001b[0m\u001b[0mtraining_file\u001b[0m\u001b[0;34m,\u001b[0m \u001b[0mbatch_size\u001b[0m\u001b[0;34m,\u001b[0m \u001b[0mself\u001b[0m\u001b[0;34m.\u001b[0m\u001b[0mresidue_fragments\u001b[0m\u001b[0;34m,\u001b[0m \u001b[0matom\u001b[0m\u001b[0;34m=\u001b[0m\u001b[0matom\u001b[0m\u001b[0;34m,\u001b[0m \u001b[0mdrop_last\u001b[0m\u001b[0;34m=\u001b[0m\u001b[0;32mTrue\u001b[0m\u001b[0;34m)\u001b[0m\u001b[0;34m\u001b[0m\u001b[0;34m\u001b[0m\u001b[0m\n\u001b[0m\u001b[1;32m     84\u001b[0m             \u001b[0mself\u001b[0m\u001b[0;34m.\u001b[0m\u001b[0mvalidation_loader\u001b[0m \u001b[0;34m=\u001b[0m \u001b[0mconstruct_dataloader_from_disk\u001b[0m\u001b[0;34m(\u001b[0m\u001b[0mvalidation_file\u001b[0m\u001b[0;34m,\u001b[0m \u001b[0mbatch_size\u001b[0m\u001b[0;34m,\u001b[0m \u001b[0mself\u001b[0m\u001b[0;34m.\u001b[0m\u001b[0mresidue_fragments\u001b[0m\u001b[0;34m,\u001b[0m \u001b[0matom\u001b[0m\u001b[0;34m=\u001b[0m\u001b[0matom\u001b[0m\u001b[0;34m,\u001b[0m \u001b[0mdrop_last\u001b[0m\u001b[0;34m=\u001b[0m\u001b[0;32mTrue\u001b[0m\u001b[0;34m)\u001b[0m\u001b[0;34m\u001b[0m\u001b[0;34m\u001b[0m\u001b[0m\n\u001b[1;32m     85\u001b[0m             \u001b[0mself\u001b[0m\u001b[0;34m.\u001b[0m\u001b[0matom\u001b[0m \u001b[0;34m=\u001b[0m \u001b[0matom\u001b[0m\u001b[0;34m\u001b[0m\u001b[0;34m\u001b[0m\u001b[0m\n",
      "\u001b[0;32m~/DIKU Project Protein Folding/protein-folding-gans/src/dataloader.py\u001b[0m in \u001b[0;36mconstruct_dataloader_from_disk\u001b[0;34m(file_name, batch_size, num_residue_fragments, mode, atom, drop_last)\u001b[0m\n\u001b[1;32m     51\u001b[0m                                        drop_last=drop_last)\n\u001b[1;32m     52\u001b[0m     \u001b[0;32melif\u001b[0m \u001b[0mmode\u001b[0m \u001b[0;34m==\u001b[0m \u001b[0;34m\"contact_map\"\u001b[0m\u001b[0;34m:\u001b[0m\u001b[0;34m\u001b[0m\u001b[0;34m\u001b[0m\u001b[0m\n\u001b[0;32m---> 53\u001b[0;31m         return torch.utils.data.DataLoader(ContactMapDataset(file_name, batch_size, num_residue_fragments, atom),\\\n\u001b[0m\u001b[1;32m     54\u001b[0m                                     \u001b[0mbatch_size\u001b[0m\u001b[0;34m=\u001b[0m\u001b[0mbatch_size\u001b[0m\u001b[0;34m,\u001b[0m \u001b[0mshuffle\u001b[0m\u001b[0;34m=\u001b[0m\u001b[0;32mTrue\u001b[0m\u001b[0;34m,\u001b[0m\u001b[0;31m\\\u001b[0m\u001b[0;34m\u001b[0m\u001b[0;34m\u001b[0m\u001b[0m\n\u001b[1;32m     55\u001b[0m                                     drop_last=drop_last)\n",
      "\u001b[0;32m~/DIKU Project Protein Folding/protein-folding-gans/src/dataloader.py\u001b[0m in \u001b[0;36m__init__\u001b[0;34m(self, file_name, batch_size, num_residue_fragments, atom)\u001b[0m\n\u001b[1;32m     11\u001b[0m         \u001b[0;31m# property that reads in the contact maps from the given file name (and residue length)\u001b[0m\u001b[0;34m\u001b[0m\u001b[0;34m\u001b[0m\u001b[0;34m\u001b[0m\u001b[0m\n\u001b[1;32m     12\u001b[0m         \u001b[0;31m# in format batch_size x residue_length x residue_length\u001b[0m\u001b[0;34m\u001b[0m\u001b[0;34m\u001b[0m\u001b[0;34m\u001b[0m\u001b[0m\n\u001b[0;32m---> 13\u001b[0;31m         \u001b[0mself\u001b[0m\u001b[0;34m.\u001b[0m\u001b[0mcontact_maps\u001b[0m \u001b[0;34m=\u001b[0m \u001b[0mcontact_maps\u001b[0m\u001b[0;34m.\u001b[0m\u001b[0mget_contact_maps\u001b[0m\u001b[0;34m(\u001b[0m\u001b[0mfile_name\u001b[0m\u001b[0;34m,\u001b[0m \u001b[0mnum_residue_fragments\u001b[0m\u001b[0;34m,\u001b[0m \u001b[0matom\u001b[0m\u001b[0;34m)\u001b[0m \u001b[0;31m#.create_contact_maps(file_name, num_residue_fragments, atom)\u001b[0m\u001b[0;34m\u001b[0m\u001b[0;34m\u001b[0m\u001b[0m\n\u001b[0m\u001b[1;32m     14\u001b[0m \u001b[0;34m\u001b[0m\u001b[0m\n\u001b[1;32m     15\u001b[0m     \u001b[0;32mdef\u001b[0m \u001b[0m__getitem__\u001b[0m\u001b[0;34m(\u001b[0m\u001b[0mself\u001b[0m\u001b[0;34m,\u001b[0m \u001b[0mindex\u001b[0m\u001b[0;34m)\u001b[0m\u001b[0;34m:\u001b[0m\u001b[0;34m\u001b[0m\u001b[0;34m\u001b[0m\u001b[0m\n",
      "\u001b[0;32m~/DIKU Project Protein Folding/protein-folding-gans/src/contact_maps.py\u001b[0m in \u001b[0;36mget_contact_maps\u001b[0;34m(file_name, fragment_length, atom)\u001b[0m\n\u001b[1;32m    101\u001b[0m         \u001b[0;32mreturn\u001b[0m \u001b[0mtorch\u001b[0m\u001b[0;34m.\u001b[0m\u001b[0mFloatTensor\u001b[0m\u001b[0;34m(\u001b[0m\u001b[0mnp\u001b[0m\u001b[0;34m.\u001b[0m\u001b[0mload\u001b[0m\u001b[0;34m(\u001b[0m\u001b[0mcache_file\u001b[0m\u001b[0;34m)\u001b[0m\u001b[0;34m)\u001b[0m\u001b[0;34m\u001b[0m\u001b[0;34m\u001b[0m\u001b[0m\n\u001b[1;32m    102\u001b[0m     \u001b[0;32melse\u001b[0m\u001b[0;34m:\u001b[0m\u001b[0;34m\u001b[0m\u001b[0;34m\u001b[0m\u001b[0m\n\u001b[0;32m--> 103\u001b[0;31m         \u001b[0;32mreturn\u001b[0m \u001b[0mcreate_contact_maps\u001b[0m\u001b[0;34m(\u001b[0m\u001b[0mfile_name\u001b[0m\u001b[0;34m,\u001b[0m \u001b[0mfragment_length\u001b[0m\u001b[0;34m,\u001b[0m \u001b[0matom\u001b[0m\u001b[0;34m)\u001b[0m\u001b[0;34m\u001b[0m\u001b[0;34m\u001b[0m\u001b[0m\n\u001b[0m",
      "\u001b[0;32m~/DIKU Project Protein Folding/protein-folding-gans/src/contact_maps.py\u001b[0m in \u001b[0;36mcreate_contact_maps\u001b[0;34m(file_name, fragment_length, atom)\u001b[0m\n\u001b[1;32m     79\u001b[0m         \u001b[0;31m# filter here residues by specific atoms\u001b[0m\u001b[0;34m\u001b[0m\u001b[0;34m\u001b[0m\u001b[0;34m\u001b[0m\u001b[0m\n\u001b[1;32m     80\u001b[0m         \u001b[0mresidues\u001b[0m \u001b[0;34m=\u001b[0m \u001b[0matom_filter\u001b[0m\u001b[0;34m(\u001b[0m\u001b[0mresidues\u001b[0m\u001b[0;34m,\u001b[0m \u001b[0matom\u001b[0m\u001b[0;34m)\u001b[0m\u001b[0;34m\u001b[0m\u001b[0;34m\u001b[0m\u001b[0m\n\u001b[0;32m---> 81\u001b[0;31m         \u001b[0mcontact_map\u001b[0m \u001b[0;34m=\u001b[0m \u001b[0mcompute_contact_map\u001b[0m\u001b[0;34m(\u001b[0m\u001b[0mresidues\u001b[0m\u001b[0;34m,\u001b[0m \u001b[0mnum_fragments_extract\u001b[0m\u001b[0;34m,\u001b[0m \u001b[0mfragment_length\u001b[0m\u001b[0;34m)\u001b[0m\u001b[0;34m\u001b[0m\u001b[0;34m\u001b[0m\u001b[0m\n\u001b[0m\u001b[1;32m     82\u001b[0m         \u001b[0mprint\u001b[0m\u001b[0;34m(\u001b[0m\u001b[0mresidues\u001b[0m\u001b[0;34m.\u001b[0m\u001b[0mshape\u001b[0m\u001b[0;34m,\u001b[0m \u001b[0mprotein_idx\u001b[0m\u001b[0;34m,\u001b[0m \u001b[0mnum_fragments_extract\u001b[0m\u001b[0;34m,\u001b[0m \u001b[0mprotein_length\u001b[0m\u001b[0;34m,\u001b[0m \u001b[0mfragment_length\u001b[0m\u001b[0;34m)\u001b[0m\u001b[0;34m\u001b[0m\u001b[0;34m\u001b[0m\u001b[0m\n\u001b[1;32m     83\u001b[0m         \u001b[0mcontact_maps\u001b[0m\u001b[0;34m.\u001b[0m\u001b[0mappend\u001b[0m\u001b[0;34m(\u001b[0m\u001b[0mcontact_map\u001b[0m\u001b[0;34m)\u001b[0m\u001b[0;34m\u001b[0m\u001b[0;34m\u001b[0m\u001b[0m\n",
      "\u001b[0;32m~/DIKU Project Protein Folding/protein-folding-gans/src/contact_maps.py\u001b[0m in \u001b[0;36mcompute_contact_map\u001b[0;34m(residues, num_fragments_extract, fragment_length)\u001b[0m\n\u001b[1;32m     61\u001b[0m             \u001b[0mcontact_map\u001b[0m\u001b[0;34m[\u001b[0m\u001b[0mfragment_id_A\u001b[0m\u001b[0;34m]\u001b[0m \u001b[0;34m=\u001b[0m \u001b[0mres\u001b[0m\u001b[0;34m\u001b[0m\u001b[0;34m\u001b[0m\u001b[0m\n\u001b[1;32m     62\u001b[0m     \u001b[0mprint\u001b[0m\u001b[0;34m(\u001b[0m\u001b[0;34m\"CONTACT MAP\"\u001b[0m\u001b[0;34m)\u001b[0m\u001b[0;34m\u001b[0m\u001b[0;34m\u001b[0m\u001b[0m\n\u001b[0;32m---> 63\u001b[0;31m     \u001b[0mexit\u001b[0m\u001b[0;34m(\u001b[0m\u001b[0;36m1\u001b[0m\u001b[0;34m)\u001b[0m\u001b[0;34m\u001b[0m\u001b[0;34m\u001b[0m\u001b[0m\n\u001b[0m\u001b[1;32m     64\u001b[0m     \u001b[0;32mreturn\u001b[0m \u001b[0mcontact_map\u001b[0m\u001b[0;34m\u001b[0m\u001b[0;34m\u001b[0m\u001b[0m\n\u001b[1;32m     65\u001b[0m \u001b[0;34m\u001b[0m\u001b[0m\n",
      "\u001b[0;31mNameError\u001b[0m: name 'exit' is not defined"
     ]
    }
   ],
   "source": [
    "directories = Directories(\"dcgan\", dataset_arg.lower(), data[\"z_dim\"], make_dirs=False)\n",
    "data_loader = DataLoader(directories, data[\"batch_size\"], dataset_arg.lower(),\n",
    "                         training_file=training_file, validation_file=validation_file,\n",
    "                         residue_fragments=residue_fragments, atom=\"calpha\")\n",
    "#gan = Dcgan(data_loader.input_dim, data[\"z_dim\"])\n",
    "#generator = Generator(data[\"z_dim\"], data_loader.input_dim, data_loader.img_dims, res=residue_fragments)\n",
    "#discriminator = Discriminator(data_loader.max_sequence_length()//data_loader.residue_fragments,\\\n",
    "#                              1, res=residue_fragments)\n",
    "#solver = Solver(gan, generator, discriminator, data[\"epochs\"], data_loader, data[\"optimizer_G\"],\n",
    "#                data[\"optimizer_D\"], data[\"optim_config_G\"], data[\"optim_config_D\"], save_model_state=False)\n",
    "#solver.main()"
   ]
  },
  {
   "cell_type": "code",
   "execution_count": null,
   "metadata": {},
   "outputs": [],
   "source": [
    "# Insert name of model here if want to load a model\n",
    "#solver = torch.load(solver.save_model_dir + \"/model_GAN_mnist_z=100.pt\")\n",
    "#solver.model.eval()\n",
    "#solver.data_loader.directories.make_dirs = False"
   ]
  },
  {
   "cell_type": "code",
   "execution_count": null,
   "metadata": {
    "scrolled": true
   },
   "outputs": [],
   "source": [
    "# Plotting g and d losses for all epochs\n",
    "plot_losses(solver, solver.train_loss_history[\"g_loss\"], solver.train_loss_history[\"d_loss\"])"
   ]
  },
  {
   "cell_type": "code",
   "execution_count": null,
   "metadata": {},
   "outputs": [],
   "source": [
    "samples = gan_sampling(generator, solver.model.z_dim, 100)\n",
    "plot_z_samples(samples, solver.data_loader.directories.make_dirs,\n",
    "               solver.data_loader.directories.result_dir, solver.data_loader.dataset)"
   ]
  },
  {
   "cell_type": "code",
   "execution_count": null,
   "metadata": {},
   "outputs": [],
   "source": []
  }
 ],
 "metadata": {
  "kernelspec": {
   "display_name": "openprotein",
   "language": "python",
   "name": "openprotein"
  },
  "language_info": {
   "codemirror_mode": {
    "name": "ipython",
    "version": 3
   },
   "file_extension": ".py",
   "mimetype": "text/x-python",
   "name": "python",
   "nbconvert_exporter": "python",
   "pygments_lexer": "ipython3",
   "version": "3.7.4"
  }
 },
 "nbformat": 4,
 "nbformat_minor": 2
}
