{
 "cells": [
  {
   "cell_type": "code",
   "execution_count": 1,
   "metadata": {},
   "outputs": [
    {
     "name": "stdout",
     "output_type": "stream",
     "text": [
      "['/home/matthias/DIKU Project Protein Folding/protein-folding-gans/src', '/home/matthias/.local/share/virtualenvs/openprotein-xj-YAKcS/lib/python37.zip', '/home/matthias/.local/share/virtualenvs/openprotein-xj-YAKcS/lib/python3.7', '/home/matthias/.local/share/virtualenvs/openprotein-xj-YAKcS/lib/python3.7/lib-dynload', '/home/matthias/anaconda3/envs/openprotein/lib/python3.7', '', '/home/matthias/.local/share/virtualenvs/openprotein-xj-YAKcS/lib/python3.7/site-packages', '/home/matthias/.local/share/virtualenvs/openprotein-xj-YAKcS/lib/python3.7/site-packages/IPython/extensions', '/home/matthias/.ipython']\n"
     ]
    }
   ],
   "source": [
    "import os\n",
    "import torch\n",
    "import numpy as np\n",
    "\n",
    "print(os.sys.path)\n",
    "os.sys.path.append(\"/home/matthias/DIKU Project Protein Folding/protein-folding-gans/src/openprotein/pnerf\")\n",
    "\n",
    "# CODE FILES HERE\n",
    "from model_params import get_model_data_dcgan\n",
    "from models.dcgan import Dcgan, Generator, Discriminator\n",
    "from solver import Solver\n",
    "from directories import Directories\n",
    "from dataloader import DataLoader\n",
    "from plots import plot_losses, plot_z_samples\n",
    "from sampling import dcgan_sampling\n",
    "from openprotein.preprocessing import process_raw_data\n",
    "\n",
    "# SETTINGS HERE\n",
    "os.environ['CUDA_LAUNCH_BLOCKING'] = \"1\" # to see the CUDA stack\n",
    "%matplotlib inline\n",
    "# for auto-reloading external modules\n",
    "# see http://stackoverflow.com/questions/1907993/autoreload-of-modules-in-ipython\n",
    "%load_ext autoreload\n",
    "%autoreload 2\n",
    "# supress cluttering warnings in solutions\n",
    "import warnings\n",
    "warnings.filterwarnings('ignore')"
   ]
  },
  {
   "cell_type": "code",
   "execution_count": 2,
   "metadata": {},
   "outputs": [
    {
     "name": "stdout",
     "output_type": "stream",
     "text": [
      "Using device: cpu\n",
      "\n"
     ]
    }
   ],
   "source": [
    "# setting device on GPU if available, else CPU\n",
    "device = torch.device('cuda:0' if torch.cuda.is_available() else 'cpu')\n",
    "print('Using device:', device)\n",
    "print()\n",
    "\n",
    "# Additional Info when using cuda\n",
    "if device.type == 'cuda':\n",
    "    print(torch.cuda.get_device_name(0))\n",
    "    print('Memory Usage:')\n",
    "    print('Allocated:', round(torch.cuda.memory_allocated(0)/1024**3,1), 'GB')\n",
    "    print('Cached:   ', round(torch.cuda.memory_cached(0)/1024**3,1), 'GB')"
   ]
  },
  {
   "cell_type": "code",
   "execution_count": 3,
   "metadata": {},
   "outputs": [],
   "source": [
    "dataset_arg = \"proteins\"\n",
    "data = get_model_data_dcgan(dataset_arg)\n",
    "residue_fragments = 16"
   ]
  },
  {
   "cell_type": "code",
   "execution_count": 4,
   "metadata": {},
   "outputs": [],
   "source": [
    "training_file = \"openprotein/data/preprocessed/testing.txt.hdf5\"\n",
    "validation_file = \"openprotein/data/preprocessed/testing.txt.hdf5\"\n",
    "#process_raw_data(False, force_pre_processing_overwrite=False)"
   ]
  },
  {
   "cell_type": "code",
   "execution_count": null,
   "metadata": {
    "scrolled": true
   },
   "outputs": [
    {
     "name": "stdout",
     "output_type": "stream",
     "text": [
      "(16, 16) 256 2 2 81 2 81\n",
      "+++++ START RUN +++++ | no save mode\n",
      "====> Epoch: 1 g_loss / d_loss avg: 0.5787 / 0.5557\n",
      "47.03 seconds for epoch 1\n",
      "====> Epoch: 2 g_loss / d_loss avg: 0.8753 / 0.3086\n",
      "51.14 seconds for epoch 2\n",
      "====> Epoch: 3 g_loss / d_loss avg: 0.9303 / 0.2872\n",
      "48.90 seconds for epoch 3\n",
      "====> Epoch: 4 g_loss / d_loss avg: 1.4482 / 0.1515\n",
      "44.99 seconds for epoch 4\n",
      "====> Epoch: 5 g_loss / d_loss avg: 1.7896 / 0.1078\n",
      "46.31 seconds for epoch 5\n",
      "====> Epoch: 6 g_loss / d_loss avg: 2.1735 / 0.0746\n",
      "45.42 seconds for epoch 6\n",
      "====> Epoch: 7 g_loss / d_loss avg: 2.1327 / 0.0765\n",
      "45.90 seconds for epoch 7\n",
      "====> Epoch: 8 g_loss / d_loss avg: 2.4744 / 0.0573\n",
      "45.74 seconds for epoch 8\n",
      "====> Epoch: 9 g_loss / d_loss avg: 2.3940 / 0.0731\n",
      "46.54 seconds for epoch 9\n",
      "====> Epoch: 10 g_loss / d_loss avg: 2.1803 / 0.0961\n",
      "46.16 seconds for epoch 10\n",
      "====> Epoch: 11 g_loss / d_loss avg: 2.6851 / 0.0485\n",
      "45.57 seconds for epoch 11\n",
      "====> Epoch: 12 g_loss / d_loss avg: 2.6553 / 0.0585\n",
      "45.10 seconds for epoch 12\n",
      "====> Epoch: 13 g_loss / d_loss avg: 3.2828 / 0.0258\n",
      "46.85 seconds for epoch 13\n",
      "====> Epoch: 14 g_loss / d_loss avg: 3.1278 / 0.0327\n",
      "51.34 seconds for epoch 14\n",
      "====> Epoch: 15 g_loss / d_loss avg: 3.9851 / 0.0176\n",
      "48.21 seconds for epoch 15\n",
      "====> Epoch: 16 g_loss / d_loss avg: 4.2347 / 0.0157\n",
      "47.39 seconds for epoch 16\n",
      "====> Epoch: 17 g_loss / d_loss avg: 4.1583 / 0.0123\n",
      "48.30 seconds for epoch 17\n",
      "====> Epoch: 18 g_loss / d_loss avg: 4.0985 / 0.0116\n",
      "50.65 seconds for epoch 18\n",
      "====> Epoch: 19 g_loss / d_loss avg: 4.0874 / 0.0107\n",
      "48.08 seconds for epoch 19\n"
     ]
    }
   ],
   "source": [
    "directories = Directories(\"dcgan\", dataset_arg.lower(), data[\"z_dim\"], make_dirs=False)\n",
    "data_loader = DataLoader(directories, data[\"batch_size\"], dataset_arg.lower(),\n",
    "                         training_file=training_file, validation_file=validation_file,\n",
    "                         residue_fragments=residue_fragments, atom=\"calpha\")\n",
    "gan = Dcgan(data_loader.input_dim, data[\"z_dim\"])\n",
    "generator = Generator(data[\"z_dim\"], data_loader.input_dim, data_loader.img_dims, res=residue_fragments)\n",
    "discriminator = Discriminator(data_loader.max_sequence_length()//data_loader.residue_fragments,\\\n",
    "                              1, res=residue_fragments)\n",
    "solver = Solver(gan, generator, discriminator, data[\"epochs\"], data_loader, data[\"optimizer_G\"],\n",
    "                data[\"optimizer_D\"], data[\"optim_config_G\"], data[\"optim_config_D\"], save_model_state=False)\n",
    "solver.main()"
   ]
  },
  {
   "cell_type": "code",
   "execution_count": null,
   "metadata": {},
   "outputs": [],
   "source": [
    "# Insert name of model here if want to load a model\n",
    "#solver = torch.load(solver.save_model_dir + \"/model_GAN_mnist_z=100.pt\")\n",
    "#solver.model.eval()\n",
    "#solver.data_loader.directories.make_dirs = False"
   ]
  },
  {
   "cell_type": "code",
   "execution_count": null,
   "metadata": {
    "scrolled": true
   },
   "outputs": [],
   "source": [
    "# Plotting g and d losses for all epochs\n",
    "plot_losses(solver, solver.train_loss_history[\"g_loss\"], solver.train_loss_history[\"d_loss\"])"
   ]
  },
  {
   "cell_type": "code",
   "execution_count": null,
   "metadata": {},
   "outputs": [],
   "source": [
    "samples = gan_sampling(generator, solver.model.z_dim, 100)\n",
    "plot_z_samples(samples, solver.data_loader.directories.make_dirs,\n",
    "               solver.data_loader.directories.result_dir, solver.data_loader.dataset)"
   ]
  },
  {
   "cell_type": "code",
   "execution_count": null,
   "metadata": {},
   "outputs": [],
   "source": []
  }
 ],
 "metadata": {
  "kernelspec": {
   "display_name": "openprotein",
   "language": "python",
   "name": "openprotein"
  },
  "language_info": {
   "codemirror_mode": {
    "name": "ipython",
    "version": 3
   },
   "file_extension": ".py",
   "mimetype": "text/x-python",
   "name": "python",
   "nbconvert_exporter": "python",
   "pygments_lexer": "ipython3",
   "version": "3.7.4"
  }
 },
 "nbformat": 4,
 "nbformat_minor": 2
}
